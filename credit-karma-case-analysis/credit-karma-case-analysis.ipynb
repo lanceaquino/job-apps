{
 "cells": [
  {
   "cell_type": "markdown",
   "metadata": {},
   "source": [
    "# Credit Karma Marketing Case Analysis \n",
    "\n",
    "### Target Questions \n",
    "1. Which version is the best? \n",
    "2. Why do you think the version that won performed well? What was the Button copy?\n",
    "3. What percent of users open their emails within a day of sending?\n",
    "\n",
    "### Data preprocessing"
   ]
  },
  {
   "cell_type": "code",
   "execution_count": 299,
   "metadata": {},
   "outputs": [],
   "source": [
    "# For data processing and plotting \n",
    "import pandas as pd\n",
    "import numpy as np\n",
    "import matplotlib.pyplot as plt \n",
    "\n",
    "# For regression \n",
    "from sklearn.linear_model import LogisticRegression\n",
    "from sklearn import metrics\n",
    "import statsmodels.api as sm"
   ]
  },
  {
   "cell_type": "code",
   "execution_count": 42,
   "metadata": {},
   "outputs": [
    {
     "name": "stdout",
     "output_type": "stream",
     "text": [
      "VARIANTS\n",
      "['A1' 'A2' 'A3' 'A4' 'B1' 'B2' 'B3' 'B4' 'C1' 'C2' 'C3' 'C4' 'D1' 'D2'\n",
      " 'D3' 'D4' 'E1' 'E2' 'E3' 'E4' 'F1' 'F2' 'F3' 'F4' 'G1' 'G2' 'G3' 'G4'\n",
      " 'H1' 'H2' 'H3' 'H4'] Total: 32\n",
      "SUBJECT LINE\n",
      "['Credit Karma is a Great Place to Work!'\n",
      " 'Credit Karma is Hiring Smart People!']\n",
      "FIRST NAME\n",
      "['Exclude' 'Include']\n",
      "DESIGN\n",
      "['Version 0' 'Version 1' 'Version 2' 'Version 3']\n",
      "BUTTON\n",
      "['Apply for This Job' 'Submit Application']\n"
     ]
    }
   ],
   "source": [
    "# load datasets \n",
    "email_df = pd.read_csv(\"email-data.csv\")\n",
    "email_vars = pd.read_csv(\"email-variants.csv\")\n",
    "\n",
    "# Checking unique variables \n",
    "print(\"VARIANTS\")\n",
    "print(email_vars[\"Variant\"].unique(), \"Total:\", len(email_vars[\"Variant\"].unique()))\n",
    "print(\"SUBJECT LINE\")\n",
    "print(email_vars[\"Subject Line\"].unique())\n",
    "print(\"FIRST NAME\")\n",
    "print(email_vars[\"First Name\"].unique())\n",
    "print(\"DESIGN\")\n",
    "print(email_vars[\"Design\"].unique())\n",
    "print(\"BUTTON\")\n",
    "print(email_vars[\"Button\"].unique())\n"
   ]
  },
  {
   "cell_type": "code",
   "execution_count": 264,
   "metadata": {},
   "outputs": [
    {
     "data": {
      "text/html": [
       "<div>\n",
       "<style scoped>\n",
       "    .dataframe tbody tr th:only-of-type {\n",
       "        vertical-align: middle;\n",
       "    }\n",
       "\n",
       "    .dataframe tbody tr th {\n",
       "        vertical-align: top;\n",
       "    }\n",
       "\n",
       "    .dataframe thead th {\n",
       "        text-align: right;\n",
       "    }\n",
       "</style>\n",
       "<table border=\"1\" class=\"dataframe\">\n",
       "  <thead>\n",
       "    <tr style=\"text-align: right;\">\n",
       "      <th></th>\n",
       "      <th>Variant</th>\n",
       "      <th>Sent</th>\n",
       "      <th>Opened</th>\n",
       "      <th>Clicked</th>\n",
       "      <th>Subject Line</th>\n",
       "      <th>First Name</th>\n",
       "      <th>Design</th>\n",
       "      <th>Button</th>\n",
       "      <th>open</th>\n",
       "      <th>click</th>\n",
       "    </tr>\n",
       "  </thead>\n",
       "  <tbody>\n",
       "    <tr>\n",
       "      <th>0</th>\n",
       "      <td>B4</td>\n",
       "      <td>2013-08-13 13:13:00</td>\n",
       "      <td>8/13/13 13:13</td>\n",
       "      <td>0</td>\n",
       "      <td>Credit Karma is Hiring Smart People!</td>\n",
       "      <td>Exclude</td>\n",
       "      <td>Version 3</td>\n",
       "      <td>Apply for This Job</td>\n",
       "      <td>1</td>\n",
       "      <td>0</td>\n",
       "    </tr>\n",
       "    <tr>\n",
       "      <th>1</th>\n",
       "      <td>E1</td>\n",
       "      <td>2013-08-13 13:13:00</td>\n",
       "      <td>8/13/13 13:14</td>\n",
       "      <td>0</td>\n",
       "      <td>Credit Karma is a Great Place to Work!</td>\n",
       "      <td>Exclude</td>\n",
       "      <td>Version 0</td>\n",
       "      <td>Submit Application</td>\n",
       "      <td>1</td>\n",
       "      <td>0</td>\n",
       "    </tr>\n",
       "    <tr>\n",
       "      <th>2</th>\n",
       "      <td>G3</td>\n",
       "      <td>2013-08-13 13:15:00</td>\n",
       "      <td>8/13/13 13:15</td>\n",
       "      <td>0</td>\n",
       "      <td>Credit Karma is a Great Place to Work!</td>\n",
       "      <td>Include</td>\n",
       "      <td>Version 2</td>\n",
       "      <td>Submit Application</td>\n",
       "      <td>1</td>\n",
       "      <td>0</td>\n",
       "    </tr>\n",
       "    <tr>\n",
       "      <th>3</th>\n",
       "      <td>G3</td>\n",
       "      <td>2013-08-13 13:15:00</td>\n",
       "      <td>8/13/13 13:15</td>\n",
       "      <td>0</td>\n",
       "      <td>Credit Karma is a Great Place to Work!</td>\n",
       "      <td>Include</td>\n",
       "      <td>Version 2</td>\n",
       "      <td>Submit Application</td>\n",
       "      <td>1</td>\n",
       "      <td>0</td>\n",
       "    </tr>\n",
       "    <tr>\n",
       "      <th>4</th>\n",
       "      <td>G3</td>\n",
       "      <td>2013-08-13 13:21:00</td>\n",
       "      <td>8/13/13 13:22</td>\n",
       "      <td>0</td>\n",
       "      <td>Credit Karma is a Great Place to Work!</td>\n",
       "      <td>Include</td>\n",
       "      <td>Version 2</td>\n",
       "      <td>Submit Application</td>\n",
       "      <td>1</td>\n",
       "      <td>0</td>\n",
       "    </tr>\n",
       "    <tr>\n",
       "      <th>5</th>\n",
       "      <td>G3</td>\n",
       "      <td>2013-08-13 14:12:00</td>\n",
       "      <td>8/13/13 14:17</td>\n",
       "      <td>0</td>\n",
       "      <td>Credit Karma is a Great Place to Work!</td>\n",
       "      <td>Include</td>\n",
       "      <td>Version 2</td>\n",
       "      <td>Submit Application</td>\n",
       "      <td>1</td>\n",
       "      <td>0</td>\n",
       "    </tr>\n",
       "    <tr>\n",
       "      <th>6</th>\n",
       "      <td>G3</td>\n",
       "      <td>2013-08-13 14:17:00</td>\n",
       "      <td>8/13/13 14:18</td>\n",
       "      <td>8/13/13 15:23</td>\n",
       "      <td>Credit Karma is a Great Place to Work!</td>\n",
       "      <td>Include</td>\n",
       "      <td>Version 2</td>\n",
       "      <td>Submit Application</td>\n",
       "      <td>1</td>\n",
       "      <td>1</td>\n",
       "    </tr>\n",
       "    <tr>\n",
       "      <th>7</th>\n",
       "      <td>A3</td>\n",
       "      <td>2013-08-13 14:19:00</td>\n",
       "      <td>0</td>\n",
       "      <td>0</td>\n",
       "      <td>Credit Karma is a Great Place to Work!</td>\n",
       "      <td>Exclude</td>\n",
       "      <td>Version 2</td>\n",
       "      <td>Apply for This Job</td>\n",
       "      <td>0</td>\n",
       "      <td>0</td>\n",
       "    </tr>\n",
       "    <tr>\n",
       "      <th>8</th>\n",
       "      <td>B3</td>\n",
       "      <td>2013-08-13 14:19:00</td>\n",
       "      <td>0</td>\n",
       "      <td>0</td>\n",
       "      <td>Credit Karma is Hiring Smart People!</td>\n",
       "      <td>Exclude</td>\n",
       "      <td>Version 2</td>\n",
       "      <td>Apply for This Job</td>\n",
       "      <td>0</td>\n",
       "      <td>0</td>\n",
       "    </tr>\n",
       "    <tr>\n",
       "      <th>9</th>\n",
       "      <td>E4</td>\n",
       "      <td>2013-08-13 14:19:00</td>\n",
       "      <td>8/13/13 15:43</td>\n",
       "      <td>0</td>\n",
       "      <td>Credit Karma is a Great Place to Work!</td>\n",
       "      <td>Exclude</td>\n",
       "      <td>Version 3</td>\n",
       "      <td>Submit Application</td>\n",
       "      <td>1</td>\n",
       "      <td>0</td>\n",
       "    </tr>\n",
       "  </tbody>\n",
       "</table>\n",
       "</div>"
      ],
      "text/plain": [
       "  Variant                Sent         Opened        Clicked  \\\n",
       "0      B4 2013-08-13 13:13:00  8/13/13 13:13              0   \n",
       "1      E1 2013-08-13 13:13:00  8/13/13 13:14              0   \n",
       "2      G3 2013-08-13 13:15:00  8/13/13 13:15              0   \n",
       "3      G3 2013-08-13 13:15:00  8/13/13 13:15              0   \n",
       "4      G3 2013-08-13 13:21:00  8/13/13 13:22              0   \n",
       "5      G3 2013-08-13 14:12:00  8/13/13 14:17              0   \n",
       "6      G3 2013-08-13 14:17:00  8/13/13 14:18  8/13/13 15:23   \n",
       "7      A3 2013-08-13 14:19:00              0              0   \n",
       "8      B3 2013-08-13 14:19:00              0              0   \n",
       "9      E4 2013-08-13 14:19:00  8/13/13 15:43              0   \n",
       "\n",
       "                             Subject Line First Name     Design  \\\n",
       "0    Credit Karma is Hiring Smart People!    Exclude  Version 3   \n",
       "1  Credit Karma is a Great Place to Work!    Exclude  Version 0   \n",
       "2  Credit Karma is a Great Place to Work!    Include  Version 2   \n",
       "3  Credit Karma is a Great Place to Work!    Include  Version 2   \n",
       "4  Credit Karma is a Great Place to Work!    Include  Version 2   \n",
       "5  Credit Karma is a Great Place to Work!    Include  Version 2   \n",
       "6  Credit Karma is a Great Place to Work!    Include  Version 2   \n",
       "7  Credit Karma is a Great Place to Work!    Exclude  Version 2   \n",
       "8    Credit Karma is Hiring Smart People!    Exclude  Version 2   \n",
       "9  Credit Karma is a Great Place to Work!    Exclude  Version 3   \n",
       "\n",
       "               Button  open  click  \n",
       "0  Apply for This Job     1      0  \n",
       "1  Submit Application     1      0  \n",
       "2  Submit Application     1      0  \n",
       "3  Submit Application     1      0  \n",
       "4  Submit Application     1      0  \n",
       "5  Submit Application     1      0  \n",
       "6  Submit Application     1      1  \n",
       "7  Apply for This Job     0      0  \n",
       "8  Apply for This Job     0      0  \n",
       "9  Submit Application     1      0  "
      ]
     },
     "metadata": {},
     "output_type": "display_data"
    }
   ],
   "source": [
    "# merge tables \n",
    "df = pd.merge(email_df, email_vars, on = \"Variant\", how = \"left\") \n",
    "\n",
    "# reformat dates to codeable formats \n",
    "df['Sent'] = pd.to_datetime(df['Sent'], errors = \"ignore\")\n",
    "df['Opened'] = pd.to_datetime(df['Opened'], errors = \"ignore\")\n",
    "df['Clicked'] = pd.to_datetime(df['Clicked'], errors = \"ignore\")\n",
    "\n",
    "# add column for checking if email was opened or clicked \n",
    "df[\"open\"] = np.where(df[\"Opened\"] != \"0\", 1, 0)\n",
    "df[\"click\"] = np.where(df[\"Clicked\"] != \"0\", 1, 0)\n",
    "\n",
    "display(df.head(n = 10))\n",
    "\n"
   ]
  },
  {
   "cell_type": "code",
   "execution_count": 305,
   "metadata": {},
   "outputs": [
    {
     "name": "stdout",
     "output_type": "stream",
     "text": [
      "Short summary of data:\n",
      "% of emails opened: 0.2982\n",
      "% of buttons clicked: 0.0324\n",
      "% of buttons clicked from opened emails: 0.1009\n"
     ]
    }
   ],
   "source": [
    "print(\"Short summary of data:\")\n",
    "print(\"% of emails opened:\", df['open'].mean())\n",
    "print(\"% of buttons clicked:\", df['click'].mean())\n",
    "print(\"% of buttons clicked from opened emails:\", round(df[df['open'] == 1]['click'].mean(),4))"
   ]
  },
  {
   "cell_type": "code",
   "execution_count": null,
   "metadata": {},
   "outputs": [],
   "source": []
  },
  {
   "cell_type": "markdown",
   "metadata": {},
   "source": [
    "## 1. Which version is the best? \n",
    "\n",
    "### Best for opening emails \n",
    "**Note**: We only look at variants, subject line and first name because these are the only features that users see when they are about to open an email  "
   ]
  },
  {
   "cell_type": "code",
   "execution_count": 346,
   "metadata": {},
   "outputs": [
    {
     "data": {
      "image/png": "[encoded data removed]",
      "text/plain": [
       "<Figure size 1440x216 with 3 Axes>"
      ]
     },
     "metadata": {
      "needs_background": "light"
     },
     "output_type": "display_data"
    }
   ],
   "source": [
    "fig, axes = plt.subplots(nrows = 1, ncols = 3, figsize = (20,3))\n",
    "\n",
    "email_open_var = df.groupby([\"Variant\"])['open'].mean()\n",
    "email_open_var.plot(ax = axes[0], kind = 'bar', title = \"Percenetage of emails opened by Variant\")\n",
    "\n",
    "email_open_subj = df.groupby([\"Subject Line\"])['open'].mean()\n",
    "email_open_subj.plot(ax = axes[1], kind = 'bar', title = \"Percenetage of emails opened by Subject Line\")\n",
    "\n",
    "email_open_name = df.groupby([\"First Name\"])['open'].mean()\n",
    "email_open_name.plot(ax = axes[2], kind = 'bar', title = \"Percenetage of emails opened by First Name\")\n",
    "\n",
    "\n",
    "plt.show()"
   ]
  },
  {
   "cell_type": "code",
   "execution_count": 352,
   "metadata": {},
   "outputs": [
    {
     "name": "stdout",
     "output_type": "stream",
     "text": [
      "Highest % based on Variant 0.36363636363636365\n",
      "Highest % based on Subject Line 0.3174418604651163\n",
      "Highest % based on Subject Line 0.30398497809305236\n",
      "Best email for opening: C3, \n",
      " With factors: Subject Line - Great place for hire, First Name - Include\n"
     ]
    }
   ],
   "source": [
    "print(\"Highest % based on Variant\", max(email_open_var))\n",
    "print(\"Highest % based on Subject Line\", max(email_open_subj))\n",
    "print(\"Highest % based on Subject Line\", max(email_open_name))\n",
    "print(\"Best email for opening: C3, \\n With factors: Subject Line - Great place for hire, First Name - Include\")"
   ]
  },
  {
   "cell_type": "markdown",
   "metadata": {},
   "source": [
    "### Best for Clicking the Button in Opened Emails \n",
    "\n",
    "**Note:** We only look at opened emails since users cannot see the content of the email and its interior features if not opened and therefore not necessary for this part of the analysis. "
   ]
  },
  {
   "cell_type": "code",
   "execution_count": 360,
   "metadata": {},
   "outputs": [
    {
     "data": {
      "image/png": "[encoded data removed]",
      "text/plain": [
       "<Figure size 1440x216 with 3 Axes>"
      ]
     },
     "metadata": {
      "needs_background": "light"
     },
     "output_type": "display_data"
    },
    {
     "data": {
      "image/png": "[encoded data removed]",
      "text/plain": [
       "<Figure size 936x216 with 2 Axes>"
      ]
     },
     "metadata": {
      "needs_background": "light"
     },
     "output_type": "display_data"
    }
   ],
   "source": [
    "fig, axes = plt.subplots(nrows = 1, ncols = 3, figsize = (20,3))\n",
    "\n",
    "ver_clicked = df[df['open'] == 1]\n",
    "\n",
    "email_clicked_var = ver_clicked.groupby([\"Variant\"])['click'].mean()\n",
    "email_clicked_var.plot(ax = axes[0], kind = 'bar', title = \"Percenetage of emails clicked by Variant\")\n",
    "\n",
    "email_clicked_des = ver_clicked.groupby([\"Design\"])['click'].mean()\n",
    "email_clicked_des.plot(ax = axes[1], kind = 'bar', title = \"Percenetage of emails clicked by Design\")\n",
    "\n",
    "email_clicked_button = ver_clicked.groupby([\"Button\"])['click'].mean()\n",
    "email_clicked_button.plot(ax = axes[2], kind = 'bar', title = \"Percenetage of emails clicked by Button\")\n",
    "\n",
    "plt.show()\n",
    "\n",
    "fig, axes = plt.subplots(nrows = 1, ncols = 2, figsize = (13,3))\n",
    "\n",
    "email_clicked_subj = ver_clicked.groupby([\"Subject Line\"])['click'].mean()\n",
    "email_clicked_subj.plot(ax = axes[0], kind = 'bar', title = \"Percenetage of emails clicked by Subject Line\")\n",
    "\n",
    "email_clicked_name = ver_clicked.groupby([\"First Name\"])['click'].mean()\n",
    "email_clicked_name.plot(ax = axes[1], kind = 'bar', title = \"Percenetage of emails clicked by First Name\")\n",
    "\n",
    "plt.show()\n",
    "\n"
   ]
  },
  {
   "cell_type": "code",
   "execution_count": 356,
   "metadata": {},
   "outputs": [
    {
     "name": "stdout",
     "output_type": "stream",
     "text": [
      "Highest % based on Variant 0.19753086419753085\n",
      "Highest % based on Design 0.10783055198973042\n",
      "Best email for clicking: G1, \n",
      " With Factors: Version 2, Subject Line - Great Place to Work, First Name - Include\n"
     ]
    }
   ],
   "source": [
    "print(\"Highest % based on Variant\", max(email_clicked_var))\n",
    "print(\"Highest % based on Design\", max(email_clicked_des))\n",
    "\n",
    "print(\"Best email for clicking: G1, \\n With Factors: Version 2, Subject Line - Great Place to Work, First Name - Include\")"
   ]
  },
  {
   "cell_type": "code",
   "execution_count": null,
   "metadata": {},
   "outputs": [],
   "source": []
  },
  {
   "cell_type": "code",
   "execution_count": null,
   "metadata": {},
   "outputs": [],
   "source": []
  },
  {
   "cell_type": "markdown",
   "metadata": {},
   "source": [
    "## 2. Why is that version the best? What was the button copy?\n",
    "\n",
    "### The best email version to be opened\n",
    "\n",
    "**NOTE:** We assume that users only see the subject line and first name before opening their email. Other variables are not considered "
   ]
  },
  {
   "cell_type": "code",
   "execution_count": 386,
   "metadata": {},
   "outputs": [
    {
     "name": "stdout",
     "output_type": "stream",
     "text": [
      "Optimization terminated successfully.\n",
      "         Current function value: 0.608293\n",
      "         Iterations 6\n",
      "                           Logit Regression Results                           \n",
      "==============================================================================\n",
      "Dep. Variable:                   open   No. Observations:                10000\n",
      "Model:                          Logit   Df Residuals:                     9996\n",
      "Method:                           MLE   Df Model:                            3\n",
      "Date:                Wed, 30 Mar 2022   Pseudo R-squ.:                0.001705\n",
      "Time:                        02:17:49   Log-Likelihood:                -6082.9\n",
      "converged:                       True   LL-Null:                       -6093.3\n",
      "Covariance Type:            nonrobust   LLR p-value:                 0.0001172\n",
      "========================================================================================================================\n",
      "                                                           coef    std err          z      P>|z|      [0.025      0.975]\n",
      "------------------------------------------------------------------------------------------------------------------------\n",
      "subject_line__Credit Karma is Hiring Smart People!      -0.5262   7.45e+05  -7.07e-07      1.000   -1.46e+06    1.46e+06\n",
      "subject_line__Credit Karma is a Great Place to Work!    -0.3335   7.45e+05  -4.48e-07      1.000   -1.46e+06    1.46e+06\n",
      "first_name__Exclude                                     -0.4600   7.45e+05  -6.18e-07      1.000   -1.46e+06    1.46e+06\n",
      "first_name__Include                                     -0.3998   7.45e+05  -5.37e-07      1.000   -1.46e+06    1.46e+06\n",
      "========================================================================================================================\n"
     ]
    }
   ],
   "source": [
    "open_df_logreg = df.copy() \n",
    "\n",
    "# One Hot Encoding for better regression results \n",
    "open_df_logreg = pd.get_dummies(open_df_logreg, prefix=['subject_line_'], columns = ['Subject Line'])\n",
    "open_df_logreg = pd.get_dummies(open_df_logreg, prefix=['first_name_'], columns = ['First Name'])\n",
    "\n",
    "# only select subject line and first name \n",
    "X = open_df_logreg.iloc[:,8:]\n",
    "y = open_df_logreg['open']\n",
    "\n",
    "# Get relationship of email features and opening emails \n",
    "logit_model=sm.Logit(y,X) # we use logit since we are dealing with categorical var. \n",
    "result=logit_model.fit()\n",
    "print(result.summary())"
   ]
  },
  {
   "cell_type": "code",
   "execution_count": 387,
   "metadata": {},
   "outputs": [
    {
     "data": {
      "text/plain": [
       "subject_line__Credit Karma is Hiring Smart People!      0.409150\n",
       "subject_line__Credit Karma is a Great Place to Work!    0.283617\n",
       "first_name__Exclude                                     0.368697\n",
       "first_name__Include                                     0.329521\n",
       "dtype: float64"
      ]
     },
     "execution_count": 387,
     "metadata": {},
     "output_type": "execute_result"
    }
   ],
   "source": [
    "# Show odds based on coefficients \n",
    "1 - np.exp(result.params)"
   ]
  },
  {
   "cell_type": "code",
   "execution_count": null,
   "metadata": {},
   "outputs": [],
   "source": []
  },
  {
   "cell_type": "markdown",
   "metadata": {},
   "source": [
    "### The best email version to be clicked \n",
    "\n",
    "Here, we now consider all variables to acquire the coefficients in our regression \n",
    "\n"
   ]
  },
  {
   "cell_type": "code",
   "execution_count": 388,
   "metadata": {},
   "outputs": [
    {
     "name": "stdout",
     "output_type": "stream",
     "text": [
      "Optimization terminated successfully.\n",
      "         Current function value: 0.325715\n",
      "         Iterations 8\n",
      "                           Logit Regression Results                           \n",
      "==============================================================================\n",
      "Dep. Variable:                  click   No. Observations:                 2982\n",
      "Model:                          Logit   Df Residuals:                     2975\n",
      "Method:                           MLE   Df Model:                            6\n",
      "Date:                Wed, 30 Mar 2022   Pseudo R-squ.:                0.004359\n",
      "Time:                        02:17:59   Log-Likelihood:                -971.28\n",
      "converged:                       True   LL-Null:                       -975.54\n",
      "Covariance Type:            nonrobust   LLR p-value:                    0.2034\n",
      "========================================================================================================================\n",
      "                                                           coef    std err          z      P>|z|      [0.025      0.975]\n",
      "------------------------------------------------------------------------------------------------------------------------\n",
      "subject_line__Credit Karma is Hiring Smart People!      -0.6547      4e+06  -1.64e-07      1.000   -7.84e+06    7.84e+06\n",
      "subject_line__Credit Karma is a Great Place to Work!    -0.5981      4e+06   -1.5e-07      1.000   -7.84e+06    7.84e+06\n",
      "first_name__Exclude                                     -0.7159   5.73e+06  -1.25e-07      1.000   -1.12e+07    1.12e+07\n",
      "first_name__Include                                     -0.5369   5.73e+06  -9.37e-08      1.000   -1.12e+07    1.12e+07\n",
      "design__Version 0                                       -0.2617   2.74e+06  -9.56e-08      1.000   -5.36e+06    5.36e+06\n",
      "design__Version 1                                       -0.3010   2.74e+06   -1.1e-07      1.000   -5.36e+06    5.36e+06\n",
      "design__Version 2                                       -0.2425   2.74e+06  -8.86e-08      1.000   -5.36e+06    5.36e+06\n",
      "design__Version 3                                       -0.4476   2.74e+06  -1.64e-07      1.000   -5.36e+06    5.36e+06\n",
      "button__Apply for This Job                              -0.7530   3.48e+06  -2.17e-07      1.000   -6.81e+06    6.81e+06\n",
      "button__Submit Application                              -0.4998   3.48e+06  -1.44e-07      1.000   -6.81e+06    6.81e+06\n",
      "========================================================================================================================\n"
     ]
    }
   ],
   "source": [
    "click_df_logreg =  df[df['open'] == 1].copy()\n",
    "\n",
    "\n",
    "# One Hot Encoding for better regression results \n",
    "click_df_logreg = pd.get_dummies(click_df_logreg, prefix=['subject_line_'], columns = ['Subject Line'])\n",
    "click_df_logreg = pd.get_dummies(click_df_logreg, prefix=['first_name_'], columns = ['First Name'])\n",
    "click_df_logreg = pd.get_dummies(click_df_logreg, prefix=['design_'], columns = ['Design'])\n",
    "click_df_logreg = pd.get_dummies(click_df_logreg, prefix=['button_'], columns = ['Button'])\n",
    "\n",
    "X = click_df_logreg.iloc[:,6:] # all 10 columns for regression \n",
    "y = click_df_logreg['click']\n",
    "\n",
    "# Get relationship of email features and opening emails \n",
    "logit_model=sm.Logit(y,X) # we use logit since we are dealing with categorical var. \n",
    "result=logit_model.fit()\n",
    "print(result.summary())"
   ]
  },
  {
   "cell_type": "code",
   "execution_count": 389,
   "metadata": {},
   "outputs": [
    {
     "data": {
      "text/plain": [
       "subject_line__Credit Karma is Hiring Smart People!      0.480402\n",
       "subject_line__Credit Karma is a Great Place to Work!    0.450134\n",
       "first_name__Exclude                                     0.511228\n",
       "first_name__Include                                     0.415455\n",
       "design__Version 0                                       0.230265\n",
       "design__Version 1                                       0.259904\n",
       "design__Version 2                                       0.215326\n",
       "design__Version 3                                       0.360845\n",
       "button__Apply for This Job                              0.529062\n",
       "button__Submit Application                              0.393318\n",
       "dtype: float64"
      ]
     },
     "execution_count": 389,
     "metadata": {},
     "output_type": "execute_result"
    }
   ],
   "source": [
    "# Show odds based on coefficients \n",
    "1 - np.exp(result.params)"
   ]
  },
  {
   "cell_type": "markdown",
   "metadata": {},
   "source": [
    "## 3. What percent of users open their emails within a day of sending?"
   ]
  },
  {
   "cell_type": "code",
   "execution_count": 390,
   "metadata": {},
   "outputs": [
    {
     "data": {
      "text/plain": [
       "0.2172"
      ]
     },
     "execution_count": 390,
     "metadata": {},
     "output_type": "execute_result"
    }
   ],
   "source": [
    "df['Sent'] = pd.to_datetime(df['Sent'], errors = 'coerce', format = '%Y-%d-%m')\n",
    "df['Opened'] = pd.to_datetime(df['Opened'], errors = 'coerce', format = '%Y-%d-%m')\n",
    "\n",
    "df.loc[(df['Opened'] >= '2013-08-13') & (df['Opened'] < '2013-08-14')].shape[0]/df.shape[0]"
   ]
  },
  {
   "cell_type": "code",
   "execution_count": null,
   "metadata": {},
   "outputs": [],
   "source": []
  }
 ],
 "metadata": {
  "kernelspec": {
   "display_name": "Python 3",
   "language": "python",
   "name": "python3"
  },
  "language_info": {
   "codemirror_mode": {
    "name": "ipython",
    "version": 3
   },
   "file_extension": ".py",
   "mimetype": "text/x-python",
   "name": "python",
   "nbconvert_exporter": "python",
   "pygments_lexer": "ipython3",
   "version": "3.8.5"
  }
 },
 "nbformat": 4,
 "nbformat_minor": 4
}
